{
 "cells": [
  {
   "cell_type": "code",
   "execution_count": 47,
   "id": "ec2163b5-6d89-42a4-86cb-8618f64e7d82",
   "metadata": {},
   "outputs": [
    {
     "name": "stdout",
     "output_type": "stream",
     "text": [
      "Connected to SQLite database\n",
      "SQLite version: 3.46.0\n",
      "2. Query all tasks\n",
      "(0, 'Tennis Court 1', 5, 25, 10000, 200)\n",
      "(1, 'Tennis Court 2', 5, 25, 8000, 200)\n",
      "(2, 'Badminton Court', 0, 15.5, 4000, 50)\n",
      "(3, 'Table Tennis', 0, 5, 320, 10)\n",
      "(4, 'Massage Room 1', 9.9, 80, 4000, 3000)\n",
      "(5, 'Massage Room 2', 9.9, 80, 4000, 3000)\n",
      "(6, 'Squash Court', 3.5, 17.5, 5000, 80)\n",
      "(7, 'Snooker Table', 0, 5, 450, 15)\n",
      "(8, 'Pool Table', 0, 5, 400, 15)\n"
     ]
    }
   ],
   "source": [
    "import sqlite3\n",
    "from sqlite3 import Error\n",
    "\n",
    " \n",
    "def create_connection(db_file):\n",
    "    \"\"\" create a database connection to the SQLite database\n",
    "        specified by the db_file\n",
    "    :param db_file: database file\n",
    "    :return: Connection object or None\n",
    "    \"\"\"\n",
    "    conn = None\n",
    "    try:\n",
    "        conn = sqlite3.connect(db_file)\n",
    "        # replaced the code that's commented out below\n",
    "        # the sqlite3.version and sqlite3.version_info attributes have been deprecated\n",
    "        #print(sqlite3.version)\n",
    "        print(\"Connected to SQLite database\")\n",
    "        print(\"SQLite version:\", conn.execute(\"SELECT sqlite_version()\").fetchone()[0])\n",
    "    except Error as e:\n",
    "        print(e)\n",
    " \n",
    "    return conn\n",
    "\n",
    " \n",
    "def select_all_tasks(conn):\n",
    "    \"\"\"\n",
    "    Query all rows in the tasks table\n",
    "    :param conn: the Connection object\n",
    "    :return:\n",
    "    \"\"\"\n",
    "    cur = conn.cursor()\n",
    "    \n",
    "    query1 = \"\"\"\n",
    "        SELECT *\n",
    "        FROM FACILITIES\n",
    "        \"\"\"\n",
    "    cur.execute(query1)\n",
    " \n",
    "    rows = cur.fetchall()\n",
    " \n",
    "    for row in rows:\n",
    "        print(row)\n",
    "\n",
    "\n",
    "def main():\n",
    "    database = \"sqlite_db_pythonsqlite.db\"\n",
    " \n",
    "    # create a database connection\n",
    "    conn = create_connection(database)\n",
    "    with conn: \n",
    "        print(\"2. Query all tasks\")\n",
    "        select_all_tasks(conn)\n",
    " \n",
    " \n",
    "if __name__ == '__main__':\n",
    "    main()"
   ]
  },
  {
   "cell_type": "code",
   "execution_count": 2,
   "id": "093c4d2d-408f-41fd-b2f6-95bea22f7b8e",
   "metadata": {},
   "outputs": [
    {
     "name": "stdout",
     "output_type": "stream",
     "text": [
      "/Users/grace/Documents/GitHubRepos/springboard/SQL_Case_Study_Tier_1\n"
     ]
    }
   ],
   "source": [
    "# check to make sure database file is in the working directory\n",
    "!pwd"
   ]
  },
  {
   "cell_type": "code",
   "execution_count": 3,
   "id": "51b7391a-0e6d-4df2-a803-6d2267f94e5a",
   "metadata": {},
   "outputs": [
    {
     "name": "stdout",
     "output_type": "stream",
     "text": [
      "LocalSQLConnection.py     SQLTasks Tier 1.sql       localsqlconnection.ipynb\n",
      "README.md                 Untitled.ipynb            sqlite_db_pythonsqlite.db\n"
     ]
    }
   ],
   "source": [
    "!ls"
   ]
  },
  {
   "cell_type": "code",
   "execution_count": 69,
   "id": "a135c60c-b783-474e-be1f-b32b9f3536e9",
   "metadata": {},
   "outputs": [],
   "source": [
    "# try to modify the select_all_tasks function by creating a new query that \n",
    "# returns all the field names in Facilities table \n",
    "\n",
    "def select_all_tasks(conn):\n",
    "    \"\"\"\n",
    "    Query all rows in the tasks table\n",
    "    :param conn: the Connection object\n",
    "    :return:\n",
    "    \"\"\"\n",
    "    cur = conn.cursor()\n",
    "\n",
    "    # define all queries\n",
    "    query1 = \"SELECT * From Facilities LIMIT 2\"\n",
    "    query2 = \"SELECT * From Bookings LIMIT 1\"\n",
    "\n",
    "    # execute and print 1st query\n",
    "    cur.execute(query1)\n",
    "    q1_column_names = [desc[0] for desc in cur.description] # Description is a special attribute of the cursor that contains \n",
    "                                                            # metadata about the columns in your result set. It's automatically \n",
    "                                                            # populated after you execute a query. \n",
    "                                                            # It returns a tuple of tuples, where each inner tuple describes \n",
    "                                                            # one column\n",
    "    q1_result = cur.fetchall()  # retrieves all the result rows from the database server and brings them \n",
    "                                # into your Python program as a list of tuples (or rows). \n",
    "                                # Each tuple represents one row from your query results.\n",
    "    print('\\n') \n",
    "    print('Query 1: Column_names :') # prints the column names\n",
    "    print(q1_column_names) # prints the columns\n",
    "    print('Query 1: Results :') \n",
    "    print(q1_result) # prints rows of table values\n",
    "    for row in q1_result:\n",
    "        print(row)\n",
    "    print('\\n') \n",
    "    # execute and print 2nd query\n",
    "    cur.execute(query2)\n",
    "    q2_column_names = [desc[0] for desc in cur.description]\n",
    "    q2_result = cur.fetchall()\n",
    "    print('Query 2: Column_names :') # prints the column names\n",
    "    print(q2_column_names) # prints the column names\n",
    "    print('Query 2: Results :')\n",
    "    print(q2_result) # prints a single row of table values\n",
    "    for row in q2_result:\n",
    "        print(row)"
   ]
  },
  {
   "cell_type": "code",
   "execution_count": 70,
   "id": "4d2d1a16-5c91-4235-977f-ec9060b90a12",
   "metadata": {},
   "outputs": [
    {
     "name": "stdout",
     "output_type": "stream",
     "text": [
      "Connected to SQLite database\n",
      "SQLite version: 3.46.0\n",
      "2. Query all tasks\n",
      "\n",
      "\n",
      "Query 1: Column_names :\n",
      "['facid', 'name', 'membercost', 'guestcost', 'initialoutlay', 'monthlymaintenance']\n",
      "Query 1: Results :\n",
      "[(0, 'Tennis Court 1', 5, 25, 10000, 200), (1, 'Tennis Court 2', 5, 25, 8000, 200)]\n",
      "(0, 'Tennis Court 1', 5, 25, 10000, 200)\n",
      "(1, 'Tennis Court 2', 5, 25, 8000, 200)\n",
      "\n",
      "\n",
      "Query 2: Column_names :\n",
      "['bookid', 'facid', 'memid', 'starttime', 'slots']\n",
      "Query 2: Results :\n",
      "[(0, 3, 1, '2012-07-03 11:00:00', 2)]\n",
      "(0, 3, 1, '2012-07-03 11:00:00', 2)\n"
     ]
    }
   ],
   "source": [
    "# play with the modified query code above on the database file\n",
    "# to get a feel for how it works\n",
    "\n",
    "if __name__ == '__main__':\n",
    "    main()"
   ]
  },
  {
   "cell_type": "markdown",
   "id": "aed9ccb7-e48e-4728-9301-3257945a08d8",
   "metadata": {},
   "source": [
    "**Q10:** Produce a list of facilities with a total revenue less than 1000.\n",
    "The output of facility name and total revenue, sorted by revenue. Remember\n",
    "that there's a different cost for guests and members!"
   ]
  },
  {
   "cell_type": "markdown",
   "id": "eaec149e-f23d-4423-b016-20c2d8906159",
   "metadata": {},
   "source": [
    "Draft query and test it in PHP platform until it works:\n",
    "\n",
    "SELECT name, \n",
    "    SUM(\n",
    "        CASE\n",
    "            WHEN firstname = 'GUEST' THEN (guestcost * slots)\n",
    "            ELSE (membercost * slots)\n",
    "        END \n",
    "    ) AS total_rev\n",
    "FROM Facilities AS f\n",
    "LEFT JOIN Bookings AS b ON f.facid = b.facid\n",
    "LEFT JOIN Members AS m ON m.memid = b.memid\n",
    "GROUP BY name\n",
    "HAVING SUM(\n",
    "        CASE\n",
    "            WHEN firstname = 'GUEST' THEN (guestcost * slots)\n",
    "            ELSE (membercost * slots)\n",
    "        END \n",
    "    )<1000\n",
    "ORDER BY total_rev DESC;"
   ]
  },
  {
   "cell_type": "code",
   "execution_count": 73,
   "id": "dd3a20b1-ce67-427d-a2c6-e164c7af9274",
   "metadata": {},
   "outputs": [
    {
     "ename": "SyntaxError",
     "evalue": "invalid syntax (921432922.py, line 10)",
     "output_type": "error",
     "traceback": [
      "\u001b[0;36m  Cell \u001b[0;32mIn[73], line 10\u001b[0;36m\u001b[0m\n\u001b[0;31m    query1 = SELECT f.name,\u001b[0m\n\u001b[0m                    ^\u001b[0m\n\u001b[0;31mSyntaxError\u001b[0m\u001b[0;31m:\u001b[0m invalid syntax\n"
     ]
    }
   ],
   "source": [
    "# Plug the query into the select_all_tasks function\n",
    "\n",
    "def select_all_tasks(conn):\n",
    "    \"\"\"\n",
    "    Query all rows in the tasks table\n",
    "    :param conn: the Connection object\n",
    "    :return:\n",
    "    \"\"\"\n",
    "    cur = conn.cursor()\n",
    "\n",
    "    # define all queries\n",
    "    query1 = SELECT f.name, \n",
    "    SUM(CASE\n",
    "            WHEN firstname = 'GUEST' THEN (guestcost * slots)\n",
    "            ELSE (membercost * slots)\n",
    "        END \n",
    "    ) AS total_rev\n",
    "    FROM Facilities AS f\n",
    "    LEFT JOIN Bookings AS b ON f.facid = b.facid\n",
    "    LEFT JOIN Members AS m ON m.memid = b.memid\n",
    "    GROUP BY f.name\n",
    "    HAVING SUM(\n",
    "        CASE\n",
    "            WHEN firstname = 'GUEST' THEN (guestcost * slots)\n",
    "            ELSE (membercost * slots)\n",
    "        END \n",
    "    )<1000\n",
    "    ORDER BY total_rev DESC;\n",
    "    \n",
    "    # execute and print 1st query\n",
    "    cur.execute(query1)\n",
    "    q1_column_names = [desc[0] for desc in cur.description] # Description is a special attribute of the cursor that contains \n",
    "                                                            # metadata about the columns in your result set. It's automatically \n",
    "                                                            # populated after you execute a query. \n",
    "                                                            # It returns a tuple of tuples, where each inner tuple describes \n",
    "                                                            # one column\n",
    "    q1_result = cur.fetchall()  # retrieves all the result rows from the database server and brings them \n",
    "                                # into your Python program as a list of tuples (or rows). \n",
    "                                # Each tuple represents one row from your query results.\n",
    "    print('\\n') \n",
    "    print('Query 1: Column_names :') # prints the column names\n",
    "    print(q1_column_names) # prints the columns\n",
    "    print('Query 1: Results :') \n",
    "    print(q1_result) # prints rows of table values\n",
    "    for row in q1_result:\n",
    "        print(row)\n",
    "    print('\\n') "
   ]
  }
 ],
 "metadata": {
  "kernelspec": {
   "display_name": "Python [conda env:base] *",
   "language": "python",
   "name": "conda-base-py"
  },
  "language_info": {
   "codemirror_mode": {
    "name": "ipython",
    "version": 3
   },
   "file_extension": ".py",
   "mimetype": "text/x-python",
   "name": "python",
   "nbconvert_exporter": "python",
   "pygments_lexer": "ipython3",
   "version": "3.12.2"
  }
 },
 "nbformat": 4,
 "nbformat_minor": 5
}
